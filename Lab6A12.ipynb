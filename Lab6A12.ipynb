{
  "nbformat": 4,
  "nbformat_minor": 0,
  "metadata": {
    "colab": {
      "provenance": []
    },
    "kernelspec": {
      "name": "python3",
      "display_name": "Python 3"
    },
    "language_info": {
      "name": "python"
    }
  },
  "cells": [
    {
      "cell_type": "code",
      "source": [
        "import numpy as np\n",
        "import pandas as pd\n",
        "from sklearn.feature_extraction.text import TfidfVectorizer\n",
        "from sklearn.neural_network import MLPClassifier\n",
        "from sklearn.model_selection import train_test_split\n",
        "from sklearn.metrics import accuracy_score, classification_report\n",
        "\n",
        "def preprocess_data(df):\n",
        "    \"\"\"\n",
        "    Preprocess the data for training.\n",
        "\n",
        "    Args:\n",
        "        df: DataFrame with English and Hindi text columns.\n",
        "\n",
        "    Returns:\n",
        "        X: TF-IDF features for English texts.\n",
        "        y: Target labels derived from Hindi texts.\n",
        "    \"\"\"\n",
        "    # Extract English and Hindi texts\n",
        "    english_texts = df['ENGLISH'].astype(str)\n",
        "    hindi_texts = df['HINDI'].astype(str)\n",
        "\n",
        "    # Initialize TF-IDF Vectorizer for English texts\n",
        "    vectorizer_english = TfidfVectorizer(max_features=5000)\n",
        "\n",
        "    # Transform English texts to TF-IDF features\n",
        "    X = vectorizer_english.fit_transform(english_texts)\n",
        "\n",
        "    # Convert Hindi texts to categorical labels\n",
        "    y, _ = pd.factorize(hindi_texts)  # Convert Hindi texts to numeric labels\n",
        "\n",
        "    return X, y\n",
        "\n",
        "def train_mlp_classifier(X_train, y_train):\n",
        "    \"\"\"\n",
        "    Train an MLP Classifier on the training data.\n",
        "\n",
        "    Args:\n",
        "        X_train: Training features.\n",
        "        y_train: Training labels.\n",
        "\n",
        "    Returns:\n",
        "        Trained MLPClassifier model.\n",
        "    \"\"\"\n",
        "    mlp = MLPClassifier(\n",
        "        hidden_layer_sizes=(100,),\n",
        "        activation='relu',\n",
        "        max_iter=1000,\n",
        "        learning_rate_init=0.01,\n",
        "        solver='adam'\n",
        "    )\n",
        "    mlp.fit(X_train, y_train)\n",
        "    return mlp\n",
        "\n",
        "def print_f1_score(y_true, y_pred):\n",
        "    \"\"\"\n",
        "    Print the overall F1 score of the classification.\n",
        "\n",
        "    Args:\n",
        "        y_true: True labels.\n",
        "        y_pred: Predicted labels.\n",
        "    \"\"\"\n",
        "    report = classification_report(y_true, y_pred, output_dict=True, zero_division=0)\n",
        "\n",
        "    # Compute and print the macro F1 score\n",
        "    f1_macro = report['macro avg']['f1-score']\n",
        "    print(f\"Macro F1 Score: {f1_macro:.4f}\")\n",
        "\n",
        "def main():\n",
        "    # Load your dataset\n",
        "    df = pd.read_excel('Book1.xlsx')\n",
        "\n",
        "    # Preprocess the data\n",
        "    X, y = preprocess_data(df)\n",
        "\n",
        "    # Split the data into training and testing sets\n",
        "    X_train, X_test, y_train, y_test = train_test_split(X, y, test_size=0.2, random_state=42)\n",
        "\n",
        "    # Train the MLP Classifier\n",
        "    mlp = train_mlp_classifier(X_train, y_train)\n",
        "\n",
        "    # Make predictions\n",
        "    y_pred = mlp.predict(X_test)\n",
        "\n",
        "    # Print evaluation metrics\n",
        "    accuracy = accuracy_score(y_test, y_pred)\n",
        "    print(f\"MLPClassifier Accuracy: {accuracy:.4f}\")\n",
        "\n",
        "    # Print F1 score\n",
        "    print_f1_score(y_test, y_pred)\n",
        "\n",
        "if __name__ == \"__main__\":\n",
        "    main()\n"
      ],
      "metadata": {
        "colab": {
          "base_uri": "https://localhost:8080/"
        },
        "id": "nn9q6RaZznIc",
        "outputId": "6dabce83-3f3c-449c-c21f-687baf05e954"
      },
      "execution_count": 10,
      "outputs": [
        {
          "output_type": "stream",
          "name": "stdout",
          "text": [
            "MLPClassifier Accuracy: 0.0228\n",
            "Macro F1 Score: 0.0114\n"
          ]
        }
      ]
    }
  ]
}