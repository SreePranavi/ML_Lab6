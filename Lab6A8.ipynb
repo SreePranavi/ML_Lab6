{
  "nbformat": 4,
  "nbformat_minor": 0,
  "metadata": {
    "colab": {
      "provenance": []
    },
    "kernelspec": {
      "name": "python3",
      "display_name": "Python 3"
    },
    "language_info": {
      "name": "python"
    }
  },
  "cells": [
    {
      "cell_type": "code",
      "source": [
        "import numpy as np\n",
        "\n",
        "def sigmoid_activation(x):\n",
        "  \"\"\"\n",
        "  Applies the sigmoid activation function.\n",
        "\n",
        "  Args:\n",
        "    x: The input value.\n",
        "\n",
        "  Returns:\n",
        "    1 / (1 + np.exp(-x))\n",
        "  \"\"\"\n",
        "\n",
        "  return 1 / (1 + np.exp(-x))\n",
        "\n",
        "def train_neural_network(X, y, learning_rate=0.05, max_epochs=10000, error_threshold=0.002, hidden_units=2):\n",
        "  \"\"\"\n",
        "  Trains a neural network using backpropagation.\n",
        "\n",
        "  Args:\n",
        "    X: The input data.\n",
        "    y: The target output.\n",
        "    learning_rate: The learning rate (set to 0.05 in this case).\n",
        "    max_epochs: The maximum number of epochs.\n",
        "    error_threshold: The error threshold for convergence.\n",
        "    hidden_units: The number of hidden units.\n",
        "\n",
        "  Returns:\n",
        "    The trained neural network weights and the number of epochs.\n",
        "  \"\"\"\n",
        "\n",
        "  # Initialize weights with larger values\n",
        "  W1 = np.random.randn(X.shape[1], hidden_units) * 1.0\n",
        "  W2 = np.random.randn(hidden_units, 1) * 1.0\n",
        "\n",
        "  for epoch in range(max_epochs):\n",
        "    error = 0\n",
        "    for i in range(len(X)):\n",
        "      # Forward propagation\n",
        "      H1 = sigmoid_activation(np.dot(X[i], W1))\n",
        "      O1 = sigmoid_activation(np.dot(H1, W2))\n",
        "\n",
        "      # Calculate error\n",
        "      error += (y[i] - O1) ** 2\n",
        "\n",
        "      # Backpropagation\n",
        "      delta_O1 = (y[i] - O1) * O1 * (1 - O1)\n",
        "      delta_H1 = np.dot(delta_O1, W2.T) * H1 * (1 - H1)\n",
        "\n",
        "      # Update weights with a learning rate of 0.05\n",
        "      W2 += learning_rate * np.outer(H1, delta_O1)\n",
        "      W1 += learning_rate * np.outer(X[i], delta_H1)\n",
        "\n",
        "    if error <= error_threshold:\n",
        "      break\n",
        "\n",
        "  return W1, W2, epoch\n",
        "\n",
        "def predict(X, W1, W2):\n",
        "  \"\"\"\n",
        "  Predicts the output of the neural network.\n",
        "\n",
        "  Args:\n",
        "    X: The input data.\n",
        "    W1: The weights for the first layer.\n",
        "    W2: The weights for the second layer.\n",
        "\n",
        "  Returns:\n",
        "    The predicted output.\n",
        "  \"\"\"\n",
        "\n",
        "  H1 = sigmoid_activation(np.dot(X, W1))\n",
        "  O1 = sigmoid_activation(np.dot(H1, W2))\n",
        "  return O1\n",
        "\n",
        "def main():\n",
        "  # AND gate training data\n",
        "  X = np.array([[0, 0], [0, 1], [1, 0], [1, 1]])\n",
        "  y = np.array([0, 0, 0, 1])\n",
        "\n",
        "  # Train the neural network with learning rate 0.05\n",
        "  W1, W2, epochs = train_neural_network(X, y, learning_rate=0.05)\n",
        "\n",
        "  # Make predictions\n",
        "  for i in range(len(X)):\n",
        "      predicted_output = predict(X[i], W1, W2)\n",
        "      print(f\"Input: {X[i]}, Predicted Output: {predicted_output}\")\n",
        "\n",
        "if __name__ == \"__main__\":\n",
        "  main()"
      ],
      "metadata": {
        "colab": {
          "base_uri": "https://localhost:8080/"
        },
        "id": "al9EE38VfQnc",
        "outputId": "848a1fef-ac46-462d-b0d0-f6f43020702b"
      },
      "execution_count": 3,
      "outputs": [
        {
          "output_type": "stream",
          "name": "stdout",
          "text": [
            "Input: [0 0], Predicted Output: [0.01258515]\n",
            "Input: [0 1], Predicted Output: [0.06414548]\n",
            "Input: [1 0], Predicted Output: [0.06129074]\n",
            "Input: [1 1], Predicted Output: [0.48714547]\n"
          ]
        }
      ]
    }
  ]
}