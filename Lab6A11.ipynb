{
  "nbformat": 4,
  "nbformat_minor": 0,
  "metadata": {
    "colab": {
      "provenance": []
    },
    "kernelspec": {
      "name": "python3",
      "display_name": "Python 3"
    },
    "language_info": {
      "name": "python"
    }
  },
  "cells": [
    {
      "cell_type": "code",
      "execution_count": 2,
      "metadata": {
        "colab": {
          "base_uri": "https://localhost:8080/"
        },
        "id": "QFiexU8nsSW8",
        "outputId": "4ba6bdf9-5014-4a3c-e22a-cd5143b8c3fd"
      },
      "outputs": [
        {
          "output_type": "stream",
          "name": "stdout",
          "text": [
            "MLPClassifier Predictions for AND Gate:\n",
            "Inputs: [0 0], Predicted Output: 0, Actual Output: 0\n",
            "Inputs: [0 1], Predicted Output: 0, Actual Output: 0\n",
            "Inputs: [1 0], Predicted Output: 0, Actual Output: 0\n",
            "Inputs: [1 1], Predicted Output: 1, Actual Output: 1\n",
            "AND Gate Accuracy: 1.0\n",
            "\n",
            "MLPClassifier Predictions for XOR Gate:\n",
            "Inputs: [0 0], Predicted Output: 1, Actual Output: 0\n",
            "Inputs: [0 1], Predicted Output: 1, Actual Output: 1\n",
            "Inputs: [1 0], Predicted Output: 1, Actual Output: 1\n",
            "Inputs: [1 1], Predicted Output: 0, Actual Output: 0\n",
            "XOR Gate Accuracy: 0.75\n",
            "\n"
          ]
        }
      ],
      "source": [
        "import numpy as np\n",
        "from sklearn.neural_network import MLPClassifier\n",
        "from sklearn.metrics import accuracy_score\n",
        "\n",
        "def train_mlp_classifier(X, y, hidden_layer_sizes=(2,), activation='relu', max_iter=10000):\n",
        "    \"\"\"\n",
        "    Trains an MLPClassifier on the provided data.\n",
        "\n",
        "    Args:\n",
        "        X: Input features.\n",
        "        y: Target labels.\n",
        "        hidden_layer_sizes: The number of neurons in the hidden layers.\n",
        "        activation: The activation function to use.\n",
        "        max_iter: Maximum number of iterations.\n",
        "\n",
        "    Returns:\n",
        "        Trained MLPClassifier model.\n",
        "    \"\"\"\n",
        "    mlp = MLPClassifier(hidden_layer_sizes=hidden_layer_sizes, activation=activation, max_iter=max_iter)\n",
        "    mlp.fit(X, y)\n",
        "    return mlp\n",
        "\n",
        "def main():\n",
        "    # AND gate problem data\n",
        "    X_and = np.array([\n",
        "        [0, 0],  # 0 AND 0 = 0\n",
        "        [0, 1],  # 0 AND 1 = 0\n",
        "        [1, 0],  # 1 AND 0 = 0\n",
        "        [1, 1]   # 1 AND 1 = 1\n",
        "    ])\n",
        "    y_and = np.array([0, 0, 0, 1])\n",
        "\n",
        "    # XOR gate problem data\n",
        "    X_xor = np.array([\n",
        "        [0, 0],  # 0 XOR 0 = 0\n",
        "        [0, 1],  # 0 XOR 1 = 1\n",
        "        [1, 0],  # 1 XOR 0 = 1\n",
        "        [1, 1]   # 1 XOR 1 = 0\n",
        "    ])\n",
        "    y_xor = np.array([0, 1, 1, 0])\n",
        "\n",
        "    # Train MLP Classifier for AND gate\n",
        "    mlp_and = train_mlp_classifier(X_and, y_and)\n",
        "    predictions_and = mlp_and.predict(X_and)\n",
        "    accuracy_and = accuracy_score(y_and, predictions_and)\n",
        "\n",
        "    # Train MLP Classifier for XOR gate\n",
        "    mlp_xor = train_mlp_classifier(X_xor, y_xor)\n",
        "    predictions_xor = mlp_xor.predict(X_xor)\n",
        "    accuracy_xor = accuracy_score(y_xor, predictions_xor)\n",
        "\n",
        "    # Print results for AND gate\n",
        "    print(\"MLPClassifier Predictions for AND Gate:\")\n",
        "    for i, inputs in enumerate(X_and):\n",
        "        print(f\"Inputs: {inputs}, Predicted Output: {predictions_and[i]}, Actual Output: {y_and[i]}\")\n",
        "    print(f\"AND Gate Accuracy: {accuracy_and}\")\n",
        "    print()\n",
        "\n",
        "    # Print results for XOR gate\n",
        "    print(\"MLPClassifier Predictions for XOR Gate:\")\n",
        "    for i, inputs in enumerate(X_xor):\n",
        "        print(f\"Inputs: {inputs}, Predicted Output: {predictions_xor[i]}, Actual Output: {y_xor[i]}\")\n",
        "    print(f\"XOR Gate Accuracy: {accuracy_xor}\")\n",
        "    print()\n",
        "\n",
        "if __name__ == \"__main__\":\n",
        "    main()\n"
      ]
    }
  ]
}