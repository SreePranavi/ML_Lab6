{
  "nbformat": 4,
  "nbformat_minor": 0,
  "metadata": {
    "colab": {
      "provenance": []
    },
    "kernelspec": {
      "name": "python3",
      "display_name": "Python 3"
    },
    "language_info": {
      "name": "python"
    }
  },
  "cells": [
    {
      "cell_type": "code",
      "source": [
        "import numpy as np\n",
        "\n",
        "def sigmoid_activation(x):\n",
        "\n",
        "   return 1 / (1 + np.exp(-x))\n",
        "\n",
        "def train_perceptron(X, y, learning_rate=0.01, max_epochs=1000, error_threshold=0.002):\n",
        "  \"\"\"\n",
        "  Trains a perceptron using the given training data.\n",
        "\n",
        "  Args:\n",
        "    X: The input data.\n",
        "    y: The target output.\n",
        "    learning_rate: The learning rate.\n",
        "    max_epochs: The maximum number of epochs.\n",
        "    error_threshold: The error threshold for convergence.\n",
        "\n",
        "  Returns:\n",
        "    The trained perceptron weights and the number of epochs.\n",
        "  \"\"\"\n",
        "\n",
        "  # Normalize input data\n",
        "  X = (X - X.mean(axis=0)) / X.std(axis=0)\n",
        "\n",
        "  num_features = X.shape[1]\n",
        "  weights = np.random.rand(num_features + 1)\n",
        "\n",
        "  for epoch in range(max_epochs):\n",
        "    error = 0\n",
        "    for i in range(len(X)):\n",
        "      net_input = np.dot(X[i], weights[:-1]) + weights[-1]\n",
        "      predicted_output = sigmoid_activation(net_input)\n",
        "      error += (y[i] - predicted_output) ** 2\n",
        "      delta_w = learning_rate * (y[i] - predicted_output) * X[i]\n",
        "      weights[:-1] += delta_w\n",
        "      weights[-1] += learning_rate * (y[i] - predicted_output)\n",
        "    if error <= error_threshold:\n",
        "      break\n",
        "\n",
        "  return weights, epoch\n",
        "\n",
        "def predict_high_value_transaction(X, weights):\n",
        "  \"\"\"\n",
        "  Predicts whether a transaction is a high-value transaction.\n",
        "\n",
        "  Args:\n",
        "    X: The input data for a single transaction.\n",
        "    weights: The trained perceptron weights.\n",
        "\n",
        "  Returns:\n",
        "    True if the transaction is predicted to be high-value, False otherwise.\n",
        "  \"\"\"\n",
        "\n",
        "  net_input = np.dot(X, weights[:-1]) + weights[-1]\n",
        "  predicted_output = sigmoid_activation(net_input)\n",
        "  return predicted_output >= 0.5\n",
        "\n",
        "def main():\n",
        "  # Load customer data\n",
        "  data = [\n",
        "      [20, 6, 2, 386, 1],  # C_1: High Value\n",
        "      [16, 3, 6, 289, 1],  # C_2: High Value\n",
        "      [27, 6, 2, 393, 1],  # C_3: High Value\n",
        "      [19, 1, 2, 110, 0],  # C_4: Low Value\n",
        "      [24, 4, 2, 280, 1],  # C_5: High Value\n",
        "      [22, 1, 5, 167, 0],  # C_6: Low Value\n",
        "      [15, 4, 2, 271, 1],  # C_7: High Value\n",
        "      [18, 4, 2, 274, 1],  # C_8: High Value\n",
        "      [21, 1, 4, 148, 0],  # C_9: Low Value\n",
        "      [16, 2, 4, 198, 0]   # C_10: Low Value\n",
        "  ]\n",
        "\n",
        "  # Prepare input data and target labels\n",
        "  X = np.array([row[:4] for row in data])\n",
        "  y = np.array([row[4] for row in data])\n",
        "\n",
        "  # Train the perceptron\n",
        "  weights, epochs = train_perceptron(X, y)\n",
        "\n",
        "  # Make predictions\n",
        "  for i, row in enumerate(data):\n",
        "    predicted_value = predict_high_value_transaction(row[:4], weights)\n",
        "    print(f\"Customer {i+1}: Predicted High Value: {predicted_value}, Actual High Value: {row[4]}\")\n",
        "\n",
        "if __name__ == \"__main__\":\n",
        "  main()"
      ],
      "metadata": {
        "colab": {
          "base_uri": "https://localhost:8080/"
        },
        "id": "DEYt31lpRQ8H",
        "outputId": "4eca9755-88d6-4923-8151-10b5d5532ead"
      },
      "execution_count": 3,
      "outputs": [
        {
          "output_type": "stream",
          "name": "stdout",
          "text": [
            "Customer 1: Predicted High Value: True, Actual High Value: 1\n",
            "Customer 2: Predicted High Value: True, Actual High Value: 1\n",
            "Customer 3: Predicted High Value: True, Actual High Value: 1\n",
            "Customer 4: Predicted High Value: True, Actual High Value: 0\n",
            "Customer 5: Predicted High Value: True, Actual High Value: 1\n",
            "Customer 6: Predicted High Value: True, Actual High Value: 0\n",
            "Customer 7: Predicted High Value: True, Actual High Value: 1\n",
            "Customer 8: Predicted High Value: True, Actual High Value: 1\n",
            "Customer 9: Predicted High Value: True, Actual High Value: 0\n",
            "Customer 10: Predicted High Value: True, Actual High Value: 0\n"
          ]
        }
      ]
    }
  ]
}